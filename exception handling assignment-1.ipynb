{
 "cells": [
  {
   "cell_type": "markdown",
   "id": "c5601e1c-2dfa-4208-930d-1d1c3749c158",
   "metadata": {},
   "source": [
    "Q1.What is exception in python ? Write the difference between Exception and syntax errors.\n",
    "\n",
    "ANS-- In Python, an exception is an event that occurs during the execution of a program that disrupts the normal flow of the program's instructions. When an exception occurs, it can be \"caught\" and handled by the program to prevent it from crashing. Exceptions are used to handle various types of errors or exceptional situations that might occur during runtime.\n",
    "\n",
    "Here's the key difference between exceptions and syntax errors in Python:\n",
    "\n",
    "1.Exception:\n",
    "\n",
    "An exception occurs during the *runtime* of a program.\n",
    " It is typically caused by factors such as invalid user input, file not found, division by zero, or other unexpected conditions.\n",
    "   Exceptions can be caught and handled using \"try\" and \"except\" blocks to prevent the program from crashing.\n",
    "\n",
    "2.Syntax Error:\n",
    "  A syntax error is a type of error that occurs during the *parsing* of the program before it is executed.\n",
    "Syntax errors are caused by violations of the language's grammar rules, such as missing colons, parentheses, or incorrect variable names.\n",
    "    These errors are detected by the Python interpreter before the program begins to run, so they must be fixed before execution.\n",
    "\n",
    "In summary, exceptions are runtime errors that can be handled to prevent program crashes, while syntax errors are detected during the parsing phase and need to be fixed before running the program."
   ]
  },
  {
   "cell_type": "markdown",
   "id": "9f7c8606-5804-4c65-a436-0b61067b57f9",
   "metadata": {},
   "source": [
    "Q2. What happens When an exception is not handled? Explain whith an example.\n",
    "\n",
    "ANS--When an exception is not handled in Python, it typically results in the program terminating abruptly, and an error message is displayed, indicating the type of exception and a traceback of where the exception occurred. This is known as an \"unhandled exception.\"\n",
    "\n",
    "Here's an example to illustrate this:"
   ]
  },
  {
   "cell_type": "code",
   "execution_count": 15,
   "id": "2b42d212-e103-40c1-a265-977d2e88d2b4",
   "metadata": {},
   "outputs": [
    {
     "name": "stdout",
     "output_type": "stream",
     "text": [
      "Error: division by zero\n"
     ]
    }
   ],
   "source": [
    "def divide_numbers(a,b):\n",
    "    result = a/b\n",
    "try:\n",
    "    divide_numbers(4,0)\n",
    "except ZeroDivisionError as e:\n",
    "    print(f\"Error: {e}\")"
   ]
  },
  {
   "cell_type": "markdown",
   "id": "c1ec34cd-aef4-423d-b03d-ede4e3fa7622",
   "metadata": {},
   "source": [
    "In this example, the divide_numbers function attempts to divide a by b. However, when b is 0, a ZeroDivisionError occurs because you can't divide by zero."
   ]
  },
  {
   "cell_type": "markdown",
   "id": "ec6b3f65-58e0-4247-bd65-b3b0f61911c6",
   "metadata": {},
   "source": [
    "If you run this code without the try and except block, you will not handle the exception"
   ]
  },
  {
   "cell_type": "code",
   "execution_count": 16,
   "id": "5a793ded-d500-432c-9966-03e6d692fb59",
   "metadata": {},
   "outputs": [
    {
     "ename": "ZeroDivisionError",
     "evalue": "division by zero",
     "output_type": "error",
     "traceback": [
      "\u001b[0;31m---------------------------------------------------------------------------\u001b[0m",
      "\u001b[0;31mZeroDivisionError\u001b[0m                         Traceback (most recent call last)",
      "Cell \u001b[0;32mIn[16], line 5\u001b[0m\n\u001b[1;32m      2\u001b[0m     result \u001b[38;5;241m=\u001b[39m a \u001b[38;5;241m/\u001b[39m b\n\u001b[1;32m      4\u001b[0m \u001b[38;5;66;03m# No try-except block\u001b[39;00m\n\u001b[0;32m----> 5\u001b[0m \u001b[43mdivide_numbers\u001b[49m\u001b[43m(\u001b[49m\u001b[38;5;241;43m5\u001b[39;49m\u001b[43m,\u001b[49m\u001b[43m \u001b[49m\u001b[38;5;241;43m0\u001b[39;49m\u001b[43m)\u001b[49m\n\u001b[1;32m      7\u001b[0m \u001b[38;5;66;03m#When you run this code, you'll get an unhandled exception\u001b[39;00m\n",
      "Cell \u001b[0;32mIn[16], line 2\u001b[0m, in \u001b[0;36mdivide_numbers\u001b[0;34m(a, b)\u001b[0m\n\u001b[1;32m      1\u001b[0m \u001b[38;5;28;01mdef\u001b[39;00m \u001b[38;5;21mdivide_numbers\u001b[39m(a, b):\n\u001b[0;32m----> 2\u001b[0m     result \u001b[38;5;241m=\u001b[39m \u001b[43ma\u001b[49m\u001b[43m \u001b[49m\u001b[38;5;241;43m/\u001b[39;49m\u001b[43m \u001b[49m\u001b[43mb\u001b[49m\n",
      "\u001b[0;31mZeroDivisionError\u001b[0m: division by zero"
     ]
    }
   ],
   "source": [
    "def divide_numbers(a, b):\n",
    "    result = a / b\n",
    "\n",
    "# No try-except block\n",
    "divide_numbers(5, 0)\n",
    "\n",
    "#When you run this code, you'll get an unhandled exception"
   ]
  },
  {
   "cell_type": "markdown",
   "id": "6a87fe0d-9447-4603-8e63-03e4e8cde6ae",
   "metadata": {},
   "source": [
    "As you can see, Python raises a ZeroDivisionError and provides information about where the error occurred. If you don't handle this exception, your program will terminate at this point, and the error message will be displayed. To handle the exception gracefully, you can use a try and except block as shown in the first example to catch the exception and provide a custom error message or take appropriate actions."
   ]
  },
  {
   "cell_type": "markdown",
   "id": "2e711ff8-23d6-4958-b9e1-c180c3c32900",
   "metadata": {},
   "source": [
    "Q3.Which python statements are used to catch and handle exception?Explain with an example.\n",
    "\n",
    "ANS--In Python, you can use 'try', 'except', 'else', and 'finally' statements to catch and handle exceptions. Here's an explanation of each, along with an example:\n",
    "\n",
    "try: This statement is used to enclose the code that might raise an exception.\n",
    "\n",
    "except: This block is executed if an exception occurs within the try block. You can specify the type of exception you want to catch, or use a generic except to catch all exceptions.\n",
    "\n",
    "else (optional): This block is executed if no exceptions occur in the try block. It's often used to handle code that should run only when no exceptions are raised.\n",
    "\n",
    "finally (optional): This block is executed regardless of whether an exception occurred or not. It's often used for cleanup tasks like closing files or releasing resources.\n",
    "\n",
    "\n",
    "Here's an example:"
   ]
  },
  {
   "cell_type": "code",
   "execution_count": 18,
   "id": "823e1666-d874-43ec-9248-b73b18799c4a",
   "metadata": {},
   "outputs": [
    {
     "name": "stdin",
     "output_type": "stream",
     "text": [
      "Enter a numerator:  44\n",
      "Enter a denominator:  22\n"
     ]
    },
    {
     "name": "stdout",
     "output_type": "stream",
     "text": [
      "Result of division: 2.0\n",
      "Execution completed.\n"
     ]
    }
   ],
   "source": [
    "try:\n",
    "    num1 = int(input(\"Enter a numerator: \"))\n",
    "    num2 = int(input(\"Enter a denominator: \"))\n",
    "    result = num1 / num2\n",
    "except ZeroDivisionError:\n",
    "    print(\"Error: Division by zero is not allowed.\")\n",
    "except ValueError:\n",
    "    print(\"Error: Please enter valid integers.\")\n",
    "else:\n",
    "    print(f\"Result of division: {result}\")\n",
    "finally:\n",
    "    print(\"Execution completed.\")"
   ]
  },
  {
   "cell_type": "markdown",
   "id": "da462600-0a51-4174-ad70-76ca5cd9f1e5",
   "metadata": {},
   "source": [
    "We use 'try' to attempt to perform division and handle any exceptions that might occur.\n",
    "Two except blocks catch specific exceptions: ZeroDivisionError for division by zero and ValueError for invalid inputs.\n",
    "If no exceptions occur, the else block prints the result.\n",
    "The finally block ensures that \"Execution completed.\" is printed regardless of whether an exception occurred or not.\n",
    "This structure allows you to gracefully handle exceptions and ensure that your program doesn't crash unexpectedly."
   ]
  },
  {
   "cell_type": "markdown",
   "id": "700e6903-2068-481f-80b8-f195ad045eeb",
   "metadata": {},
   "source": [
    "Q4.Explain with an example\n",
    "a.try and else \n",
    "b.finally\n",
    "c.raise\n",
    "\n",
    "ANS--a.Try and Except:\n",
    "                      In Python try and except blocks are used to handle exceptions (errors) that may occur during the                         execution of code. Code inside the try block is executed, and if an exception occurs, it is caught                       and handled in the except block.\n",
    "                      \n",
    "Here's an example."
   ]
  },
  {
   "cell_type": "code",
   "execution_count": 19,
   "id": "edbad307-a24b-4067-b1da-c72c9bb53f25",
   "metadata": {},
   "outputs": [
    {
     "name": "stdout",
     "output_type": "stream",
     "text": [
      "Error: Division by zero!\n"
     ]
    }
   ],
   "source": [
    "try:\n",
    "    # Code that may raise an exception\n",
    "    result = 10 / 0  # This will raise a ZeroDivisionError\n",
    "except ZeroDivisionError:\n",
    "    # Code to handle the exception\n",
    "    print(\"Error: Division by zero!\")\n"
   ]
  },
  {
   "cell_type": "markdown",
   "id": "848a2418-828b-4b96-8421-b9cdb3d1afab",
   "metadata": {},
   "source": [
    "In this example, we attempt to divide 10 by 0, which would result in a ZeroDivisionError. The except block catches this error and prints a custom error message."
   ]
  },
  {
   "cell_type": "markdown",
   "id": "43a038c9-faaa-40f1-995e-1af79984401d",
   "metadata": {},
   "source": [
    "b. Finally:\n",
    "           The finally block is used to execute code regardless of whether an exception was raised or not. It's often                 used for cleanup operations.\n",
    "           \n",
    "           \n",
    "Here's an example"
   ]
  },
  {
   "cell_type": "code",
   "execution_count": 20,
   "id": "50013baf-a8d9-41bf-a0d8-7050f8e98489",
   "metadata": {},
   "outputs": [
    {
     "name": "stdout",
     "output_type": "stream",
     "text": [
      "Execution complete, whether there was an error or not.\n"
     ]
    }
   ],
   "source": [
    "try:\n",
    "    # Code that may raise an exception\n",
    "    result = 10 / 2\n",
    "except ZeroDivisionError:\n",
    "    # Code to handle the exception\n",
    "    print(\"Error: Division by zero!\")\n",
    "finally:\n",
    "    # Code that always runs\n",
    "    print(\"Execution complete, whether there was an error or not.\")\n"
   ]
  },
  {
   "cell_type": "markdown",
   "id": "4adde515-e560-454a-95b7-46bd2da4ff23",
   "metadata": {},
   "source": [
    "In this example whether the division operation is successful or not\n",
    "the code in the finally block will always execute."
   ]
  },
  {
   "cell_type": "markdown",
   "id": "9ea7f57e-f2f7-45be-8b5f-eb49935502a5",
   "metadata": {},
   "source": [
    "c. Raise:\n",
    "         The raise statement is used to raise a specific exception manually. You can use it to signal that an error                condition has occurred in your code.\n",
    "         \n",
    "         \n",
    "for example"
   ]
  },
  {
   "cell_type": "code",
   "execution_count": 21,
   "id": "34b27322-2d71-453c-a7a4-ed716c98fee2",
   "metadata": {},
   "outputs": [
    {
     "ename": "ValueError",
     "evalue": "Age cannot be negative",
     "output_type": "error",
     "traceback": [
      "\u001b[0;31m---------------------------------------------------------------------------\u001b[0m",
      "\u001b[0;31mValueError\u001b[0m                                Traceback (most recent call last)",
      "Cell \u001b[0;32mIn[21], line 4\u001b[0m\n\u001b[1;32m      1\u001b[0m age \u001b[38;5;241m=\u001b[39m \u001b[38;5;241m-\u001b[39m\u001b[38;5;241m5\u001b[39m\n\u001b[1;32m      3\u001b[0m \u001b[38;5;28;01mif\u001b[39;00m age \u001b[38;5;241m<\u001b[39m \u001b[38;5;241m0\u001b[39m:\n\u001b[0;32m----> 4\u001b[0m     \u001b[38;5;28;01mraise\u001b[39;00m \u001b[38;5;167;01mValueError\u001b[39;00m(\u001b[38;5;124m\"\u001b[39m\u001b[38;5;124mAge cannot be negative\u001b[39m\u001b[38;5;124m\"\u001b[39m)\n",
      "\u001b[0;31mValueError\u001b[0m: Age cannot be negative"
     ]
    }
   ],
   "source": [
    "age = -5\n",
    "\n",
    "if age < 0:\n",
    "    raise ValueError(\"Age cannot be negative\")"
   ]
  },
  {
   "cell_type": "markdown",
   "id": "77c6eaf0-f558-4c28-8113-12f51c808262",
   "metadata": {},
   "source": [
    "In this example, we check if age is negative, and if it is, we raise a ValueError with a custom error message. This allows you to create and handle custom exceptions in your code."
   ]
  },
  {
   "cell_type": "markdown",
   "id": "75a4b944-8de3-4029-bdb1-0a237342990c",
   "metadata": {},
   "source": [
    "Q5. What are the custom exception in python ?why we need custom Excption ?Explain with an example.\n",
    "\n",
    "ANS--In Python, you can create custom exceptions to handle specific error conditions in your code. Custom exceptions are useful because they allow you to provide more meaningful error messages and to differentiate between different types of errors in your program. Here's how you can create and use custom exceptions:\n",
    "\n",
    "Create a Custom Exception Class:\n",
    "                               You can create a custom exception by defining a new class that inherits from the built-in                                 Exception class or one of its subclasses."
   ]
  },
  {
   "cell_type": "code",
   "execution_count": 22,
   "id": "6d4294c9-0c0c-4d24-966d-090537e43c88",
   "metadata": {},
   "outputs": [],
   "source": [
    "class CustomError(Exception):\n",
    "    def _init_(self, message):\n",
    "        super()._init_(message)"
   ]
  },
  {
   "cell_type": "markdown",
   "id": "68144741-f6ac-47ec-aa87-88d9b463cdf3",
   "metadata": {},
   "source": [
    "Raise the Custom Exception:\n",
    "                           You can raise your custom exception when a specific error condition occurs in your code."
   ]
  },
  {
   "cell_type": "code",
   "execution_count": 23,
   "id": "823bd0e2-4584-48f5-938e-0021cc665618",
   "metadata": {},
   "outputs": [],
   "source": [
    "def divide(a, b):\n",
    "    if b == 0:\n",
    "        raise CustomError(\"Division by zero is not allowed.\")\n",
    "    return a / b"
   ]
  },
  {
   "cell_type": "markdown",
   "id": "e6e776e8-c33d-48d4-bd68-96144c94f091",
   "metadata": {},
   "source": [
    "Handle the Custom Exception:\n",
    "\n",
    "You can catch and handle your custom exception using a try and except block.\n"
   ]
  },
  {
   "cell_type": "code",
   "execution_count": 24,
   "id": "fc68c961-a7a8-402d-8344-5d27d8539a84",
   "metadata": {},
   "outputs": [
    {
     "name": "stdout",
     "output_type": "stream",
     "text": [
      "An error occurred: Division by zero is not allowed.\n"
     ]
    }
   ],
   "source": [
    "try:\n",
    "    result = divide(10, 0)\n",
    "except CustomError as e:\n",
    "    print(f\"An error occurred: {e}\")"
   ]
  },
  {
   "cell_type": "markdown",
   "id": "12c3d0ec-1217-4310-8256-53db3f0fcbbb",
   "metadata": {},
   "source": [
    "In this example, if you try to divide by zero, the custom CustomError exception is raised with a meaningful error message."
   ]
  },
  {
   "cell_type": "markdown",
   "id": "316c40de-cd1d-4b2a-aa72-74a00e038601",
   "metadata": {},
   "source": [
    "Custom exceptions are useful because they make your code more readable and maintainable. They allow you to distinguish different error conditions and provide specific error messages to aid in debugging. Additionally, they can help you design better error-handling strategies in your programs.\n",
    "\n",
    "\n",
    "Here's the complete example:"
   ]
  },
  {
   "cell_type": "code",
   "execution_count": 25,
   "id": "ba1cd099-f4cb-43f0-8471-07fa629ee08f",
   "metadata": {},
   "outputs": [
    {
     "name": "stdout",
     "output_type": "stream",
     "text": [
      "An error occurred: Division by zero is not allowed.\n"
     ]
    }
   ],
   "source": [
    "class CustomError(Exception):\n",
    "    def _init_(self, message):\n",
    "        super()._init_(message)\n",
    "\n",
    "def divide(a, b):\n",
    "    if b == 0:\n",
    "        raise CustomError(\"Division by zero is not allowed.\")\n",
    "    return a / b\n",
    "\n",
    "try:\n",
    "    result = divide(10, 0)\n",
    "except CustomError as e:\n",
    "    print(f\"An error occurred: {e}\")"
   ]
  },
  {
   "cell_type": "markdown",
   "id": "773799e2-5a84-4420-b065-3d51346f9bd2",
   "metadata": {},
   "source": [
    "In this code, the CustomError exception is raised when dividing by zero, and the custom error message is displayed when catching the exception."
   ]
  },
  {
   "cell_type": "markdown",
   "id": "c2b3d3f5-c968-4267-b9a0-83b1ab17c6a3",
   "metadata": {},
   "source": [
    "Q6.create a custom exception class . use this class to handle an exception.\n",
    "\n",
    "ANS--"
   ]
  },
  {
   "cell_type": "code",
   "execution_count": 26,
   "id": "e0dcd7ef-0f17-48e6-9f50-6efe2ff77949",
   "metadata": {},
   "outputs": [
    {
     "name": "stdout",
     "output_type": "stream",
     "text": [
      "Caught an exception: Input should be a non-negative number.\n"
     ]
    }
   ],
   "source": [
    "# Create a custom exception class\n",
    "class MyCustomException(Exception):\n",
    "    def _init_(self, message):\n",
    "        super()._init_(message)\n",
    "\n",
    "# Define a function that can raise the custom exception\n",
    "def my_function(x):\n",
    "    if x < 0:\n",
    "        raise MyCustomException(\"Input should be a non-negative number.\")\n",
    "    return x ** 2\n",
    "\n",
    "# Use a try-except block to handle the custom exception\n",
    "try:\n",
    "    result = my_function(-5)\n",
    "except MyCustomException as e:\n",
    "    print(f\"Caught an exception: {e}\")\n",
    "else:\n",
    "    print(f\"Result: {result}\")"
   ]
  },
  {
   "cell_type": "markdown",
   "id": "49ed9413-0906-4f42-9a19-d7283f8a884b",
   "metadata": {},
   "source": [
    "IT RAISES THE 'MyCustomException' DUE TO THE NEGATIVE INPUT"
   ]
  },
  {
   "cell_type": "code",
   "execution_count": null,
   "id": "8472be60-a15b-46cf-b6ce-78d973303dff",
   "metadata": {},
   "outputs": [],
   "source": []
  }
 ],
 "metadata": {
  "kernelspec": {
   "display_name": "Python 3 (ipykernel)",
   "language": "python",
   "name": "python3"
  },
  "language_info": {
   "codemirror_mode": {
    "name": "ipython",
    "version": 3
   },
   "file_extension": ".py",
   "mimetype": "text/x-python",
   "name": "python",
   "nbconvert_exporter": "python",
   "pygments_lexer": "ipython3",
   "version": "3.10.8"
  }
 },
 "nbformat": 4,
 "nbformat_minor": 5
}
